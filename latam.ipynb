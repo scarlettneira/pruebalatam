{
 "cells": [
  {
   "cell_type": "markdown",
   "metadata": {},
   "source": [
    "Analista Datos Marketing Digital LATAM Airlines\n"
   ]
  },
  {
   "cell_type": "markdown",
   "metadata": {},
   "source": [
    "Análisis de Funnel\n",
    "¿En qué áreas del Funnel te concentrarías y qué haría para cambiar estos resultados?\n",
    "*\n",
    "Análisis de Ventas\n",
    "¿A cuántas ciudades de Chile ofrece LATAM servicios de vuelos nacionales?\n",
    "*\n",
    "Análisis de Ventas\n",
    "¿Cuáles son los 3 mayores destinos domésticos vendidos en Colombia?\n",
    "*\n",
    "Análisis de Ventas\n",
    "Cuál es la tarifa media por pasajero (Revenue/Pax) en vuelos internacionales con origen en Brasil\n",
    "*\n",
    "Análisis de Ventas\n",
    "Cuál es el top 10 de ciudades de origen más frecuentes\n",
    "*\n",
    "Análisis de Ventas\n",
    "Cuál es el top 10 de países más vendidos\n",
    "*\n",
    "Comparte tu trabajo: Una vez terminado, comparte tu archivo públicamente y pega el enlace aquí, usando tu nombre para identificarlo.  "
   ]
  }
 ],
 "metadata": {
  "language_info": {
   "name": "python"
  }
 },
 "nbformat": 4,
 "nbformat_minor": 2
}
