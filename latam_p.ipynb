{
 "cells": [
  {
   "cell_type": "markdown",
   "metadata": {},
   "source": [
    "# <font color='#110273'>Analista Datos Marketing Digital LATAM Airlines</font>\n",
    "\n",
    "#### <font color='#110273'> Autor: Scarlett Neira Giddings</font>\n"
   ]
  },
  {
   "cell_type": "markdown",
   "metadata": {},
   "source": [
    "## <font color='#0D0259'>Introducción</font>"
   ]
  },
  {
   "cell_type": "markdown",
   "metadata": {},
   "source": [
    "LATAM Airlines es la aerolínea más grande de América Latina, con sede en Santiago, Chile, y opera en más de 20 países. Nació de la fusión entre la chilena LAN y la brasileña TAM en 2012, ofreciendo vuelos nacionales e internacionales. La compañía cubre una amplia red de destinos en América, Europa, Oceanía y el Caribe, y se caracteriza por su enfoque en mejorar la experiencia del cliente a través de la tecnología y la sostenibilidad.\n",
    "\n",
    "LATAM utiliza estrategias de ventas en múltiples canales, incluyendo plataformas digitales, donde las campañas de marketing digital juegan un rol fundamental para atraer y retener clientes.\n",
    "\n",
    "El análisis de datos en este contexto es crucial para mejorar la toma de decisiones, optimizar campañas publicitarias y personalizar la experiencia del cliente. A través del análisis de métricas digitales como el tráfico web, conversiones, y comportamiento del usuario en las plataformas online, LATAM puede identificar oportunidades de crecimiento, mejorar la efectividad de sus estrategias de marketing y aumentar su competitividad en un mercado altamente dinámico.\n",
    "\n",
    "Contamos con un archivo CSV que incluye datos sobre el funnel de ventas de la página web de LATAM Airlines, ventas de pasajes por destino y precios de tickets. Además, contiene información complementaria como códigos de aeropuertos y países. Realizaremos un análisis tanto del funnel de ventas como de las transacciones, con el objetivo de extraer insights valiosos que puedan mejorar la estrategia comercial y optimizar el rendimiento de la compañía.\n",
    "\n",
    "Información complementaria:\n",
    "\n",
    "- Cada ID de vuelo o transacción se identifica por la combinación de un código único formado por las siglas de 3 letras del aeropuerto de origen y del destino. Por ejemplo, un vuelo de Santiago a Lima tendría el código SCLLIM.\n",
    "- PAX: Cantidad de pasajeros.\n",
    "- Revenue: Ingresos por venta."
   ]
  },
  {
   "cell_type": "markdown",
   "metadata": {},
   "source": [
    "[Introducción](#Introducción)\n",
    "[Data Exploring](#Data-Exploring)\n",
    "1. [Análisis de Funnel](#Análisis-de-Funnel)\n",
    "   - 1.1 [¿En qué áreas del Funnel te concentrarías y qué haría para cambiar estos resultados?](#Respuesta-1.1)\n",
    "2. [Análisis de Ventas](#Análisis-de-Ventas)\n",
    "   - 2.1 [¿A cuántas ciudades de Chile ofrece LATAM servicios de vuelos nacionales?](#Respuesta-2.1)\n",
    "   - 2.2 [¿Cuáles son los 3 mayores destinos domésticos vendidos en Colombia?](#Respuesta-2.2)\n",
    "   - 2.3 [¿Cuál es la tarifa media por pasajero (Revenue/Pax) en vuelos internacionales con origen en Brasil?](#Respuesta-2.3)\n",
    "   - 2.4 [¿Cuál es el top 10 de ciudades de origen más frecuentes?](#Respuesta-2.4)\n",
    "   - 2.5 [¿Cuál es el top 10 de países más vendidos?](#Respuesta-2.5)"
   ]
  },
  {
   "cell_type": "markdown",
   "metadata": {},
   "source": [
    "## <font color='#0D0259'>Data Exploring</font>"
   ]
  },
  {
   "cell_type": "markdown",
   "metadata": {},
   "source": [
    "En esta etapa del análisis, importamos las bibliotecas necesarias, cargamos los datos y hacemos una visualización rápida de los datos, con métodos como ```.info(), .describe()``` y ```.head()```"
   ]
  },
  {
   "cell_type": "code",
   "execution_count": 157,
   "metadata": {},
   "outputs": [],
   "source": [
    "import pandas as pd\n",
    "ventas_df = pd.read_csv('/Users/scarlettneiragiddings/Desktop/latam/Analisis_de_Ventas.csv')\n",
    "funnel_df = pd.read_csv('/Users/scarlettneiragiddings/Desktop/latam/Analisis_Funnel_de_Ventas.csv')\n",
    "cities_df = pd.read_csv('/Users/scarlettneiragiddings/Desktop/latam/Cities.csv')\n",
    "countries_df = pd.read_csv('/Users/scarlettneiragiddings/Desktop/latam/Countries.csv')\n",
    "flights_df = pd.read_csv('/Users/scarlettneiragiddings/Desktop/latam/Flights.csv')"
   ]
  },
  {
   "cell_type": "code",
   "execution_count": 158,
   "metadata": {},
   "outputs": [
    {
     "name": "stdout",
     "output_type": "stream",
     "text": [
      "<class 'pandas.core.frame.DataFrame'>\n",
      "RangeIndex: 4836 entries, 0 to 4835\n",
      "Data columns (total 4 columns):\n",
      " #   Column           Non-Null Count  Dtype \n",
      "---  ------           --------------  ----- \n",
      " 0   id               4836 non-null   object\n",
      " 1   Transactions     4836 non-null   object\n",
      " 2   PAX: Passengers  4836 non-null   object\n",
      " 3   Revenue (USD)    4836 non-null   object\n",
      "dtypes: object(4)\n",
      "memory usage: 151.2+ KB\n"
     ]
    },
    {
     "data": {
      "text/html": [
       "<div>\n",
       "<style scoped>\n",
       "    .dataframe tbody tr th:only-of-type {\n",
       "        vertical-align: middle;\n",
       "    }\n",
       "\n",
       "    .dataframe tbody tr th {\n",
       "        vertical-align: top;\n",
       "    }\n",
       "\n",
       "    .dataframe thead th {\n",
       "        text-align: right;\n",
       "    }\n",
       "</style>\n",
       "<table border=\"1\" class=\"dataframe\">\n",
       "  <thead>\n",
       "    <tr style=\"text-align: right;\">\n",
       "      <th></th>\n",
       "      <th>id</th>\n",
       "      <th>Transactions</th>\n",
       "      <th>PAX: Passengers</th>\n",
       "      <th>Revenue (USD)</th>\n",
       "    </tr>\n",
       "  </thead>\n",
       "  <tbody>\n",
       "    <tr>\n",
       "      <th>0</th>\n",
       "      <td>BOGADL</td>\n",
       "      <td>3</td>\n",
       "      <td>6</td>\n",
       "      <td>$675</td>\n",
       "    </tr>\n",
       "    <tr>\n",
       "      <th>1</th>\n",
       "      <td>SCLADL</td>\n",
       "      <td>4</td>\n",
       "      <td>4</td>\n",
       "      <td>$534</td>\n",
       "    </tr>\n",
       "    <tr>\n",
       "      <th>2</th>\n",
       "      <td>GRUADL</td>\n",
       "      <td>2</td>\n",
       "      <td>4</td>\n",
       "      <td>$237</td>\n",
       "    </tr>\n",
       "    <tr>\n",
       "      <th>3</th>\n",
       "      <td>SCLALC</td>\n",
       "      <td>6</td>\n",
       "      <td>12</td>\n",
       "      <td>$1,062</td>\n",
       "    </tr>\n",
       "    <tr>\n",
       "      <th>4</th>\n",
       "      <td>ZCOALC</td>\n",
       "      <td>1</td>\n",
       "      <td>3</td>\n",
       "      <td>$191</td>\n",
       "    </tr>\n",
       "  </tbody>\n",
       "</table>\n",
       "</div>"
      ],
      "text/plain": [
       "       id Transactions PAX: Passengers Revenue (USD)\n",
       "0  BOGADL            3               6          $675\n",
       "1  SCLADL            4               4          $534\n",
       "2  GRUADL            2               4          $237\n",
       "3  SCLALC            6              12        $1,062\n",
       "4  ZCOALC            1               3          $191"
      ]
     },
     "execution_count": 158,
     "metadata": {},
     "output_type": "execute_result"
    }
   ],
   "source": [
    "ventas_df.info()\n",
    "ventas_df.head()"
   ]
  },
  {
   "cell_type": "code",
   "execution_count": 163,
   "metadata": {},
   "outputs": [
    {
     "name": "stdout",
     "output_type": "stream",
     "text": [
      "<class 'pandas.core.frame.DataFrame'>\n",
      "RangeIndex: 1097 entries, 0 to 1096\n",
      "Data columns (total 5 columns):\n",
      " #   Column     Non-Null Count  Dtype \n",
      "---  ------     --------------  ----- \n",
      " 0   City IATA  1097 non-null   object\n",
      " 1   Type       1097 non-null   object\n",
      " 2   country    1096 non-null   object\n",
      " 3   city       1097 non-null   object\n",
      " 4   ES value   1097 non-null   object\n",
      "dtypes: object(5)\n",
      "memory usage: 43.0+ KB\n"
     ]
    },
    {
     "data": {
      "text/html": [
       "<div>\n",
       "<style scoped>\n",
       "    .dataframe tbody tr th:only-of-type {\n",
       "        vertical-align: middle;\n",
       "    }\n",
       "\n",
       "    .dataframe tbody tr th {\n",
       "        vertical-align: top;\n",
       "    }\n",
       "\n",
       "    .dataframe thead th {\n",
       "        text-align: right;\n",
       "    }\n",
       "</style>\n",
       "<table border=\"1\" class=\"dataframe\">\n",
       "  <thead>\n",
       "    <tr style=\"text-align: right;\">\n",
       "      <th></th>\n",
       "      <th>City IATA</th>\n",
       "      <th>Type</th>\n",
       "      <th>country</th>\n",
       "      <th>city</th>\n",
       "      <th>ES value</th>\n",
       "    </tr>\n",
       "  </thead>\n",
       "  <tbody>\n",
       "    <tr>\n",
       "      <th>0</th>\n",
       "      <td>AUH</td>\n",
       "      <td>CITY</td>\n",
       "      <td>AE</td>\n",
       "      <td>Abu Dhabi</td>\n",
       "      <td>Abu Dhabi</td>\n",
       "    </tr>\n",
       "    <tr>\n",
       "      <th>1</th>\n",
       "      <td>DXB</td>\n",
       "      <td>CITY</td>\n",
       "      <td>AE</td>\n",
       "      <td>Dubai</td>\n",
       "      <td>Dubai</td>\n",
       "    </tr>\n",
       "    <tr>\n",
       "      <th>2</th>\n",
       "      <td>ANU</td>\n",
       "      <td>CITY</td>\n",
       "      <td>AG</td>\n",
       "      <td>Antigua</td>\n",
       "      <td>Antigua</td>\n",
       "    </tr>\n",
       "    <tr>\n",
       "      <th>3</th>\n",
       "      <td>LAD</td>\n",
       "      <td>CITY</td>\n",
       "      <td>AO</td>\n",
       "      <td>Luanda</td>\n",
       "      <td>Luanda</td>\n",
       "    </tr>\n",
       "    <tr>\n",
       "      <th>4</th>\n",
       "      <td>AEP</td>\n",
       "      <td>CITY</td>\n",
       "      <td>AR</td>\n",
       "      <td>Buenos Aires</td>\n",
       "      <td>Buenos Aires</td>\n",
       "    </tr>\n",
       "  </tbody>\n",
       "</table>\n",
       "</div>"
      ],
      "text/plain": [
       "  City IATA  Type country          city      ES value\n",
       "0       AUH  CITY      AE     Abu Dhabi     Abu Dhabi\n",
       "1       DXB  CITY      AE         Dubai         Dubai\n",
       "2       ANU  CITY      AG       Antigua       Antigua\n",
       "3       LAD  CITY      AO        Luanda        Luanda\n",
       "4       AEP  CITY      AR  Buenos Aires  Buenos Aires"
      ]
     },
     "execution_count": 163,
     "metadata": {},
     "output_type": "execute_result"
    }
   ],
   "source": [
    "cities_df.info()\n",
    "cities_df.head()"
   ]
  },
  {
   "cell_type": "code",
   "execution_count": 161,
   "metadata": {},
   "outputs": [
    {
     "name": "stdout",
     "output_type": "stream",
     "text": [
      "<class 'pandas.core.frame.DataFrame'>\n",
      "RangeIndex: 5 entries, 0 to 4\n",
      "Data columns (total 2 columns):\n",
      " #   Column                Non-Null Count  Dtype \n",
      "---  ------                --------------  ----- \n",
      " 0   Sales Funnel Step     5 non-null      object\n",
      " 1   Cantidad de usuarios  5 non-null      object\n",
      "dtypes: object(2)\n",
      "memory usage: 208.0+ bytes\n"
     ]
    },
    {
     "data": {
      "text/html": [
       "<div>\n",
       "<style scoped>\n",
       "    .dataframe tbody tr th:only-of-type {\n",
       "        vertical-align: middle;\n",
       "    }\n",
       "\n",
       "    .dataframe tbody tr th {\n",
       "        vertical-align: top;\n",
       "    }\n",
       "\n",
       "    .dataframe thead th {\n",
       "        text-align: right;\n",
       "    }\n",
       "</style>\n",
       "<table border=\"1\" class=\"dataframe\">\n",
       "  <thead>\n",
       "    <tr style=\"text-align: right;\">\n",
       "      <th></th>\n",
       "      <th>Sales Funnel Step</th>\n",
       "      <th>Cantidad de usuarios</th>\n",
       "    </tr>\n",
       "  </thead>\n",
       "  <tbody>\n",
       "    <tr>\n",
       "      <th>0</th>\n",
       "      <td>Homepage Total Users</td>\n",
       "      <td>150,000</td>\n",
       "    </tr>\n",
       "    <tr>\n",
       "      <th>1</th>\n",
       "      <td>Search-Results (Product View)</td>\n",
       "      <td>60,000</td>\n",
       "    </tr>\n",
       "    <tr>\n",
       "      <th>2</th>\n",
       "      <td>Passenger Information (Add to Cart)</td>\n",
       "      <td>15,000</td>\n",
       "    </tr>\n",
       "    <tr>\n",
       "      <th>3</th>\n",
       "      <td>Payment Details</td>\n",
       "      <td>5,000</td>\n",
       "    </tr>\n",
       "    <tr>\n",
       "      <th>4</th>\n",
       "      <td>Total transactions</td>\n",
       "      <td>3,000</td>\n",
       "    </tr>\n",
       "  </tbody>\n",
       "</table>\n",
       "</div>"
      ],
      "text/plain": [
       "                     Sales Funnel Step Cantidad de usuarios\n",
       "0                 Homepage Total Users              150,000\n",
       "1        Search-Results (Product View)               60,000\n",
       "2  Passenger Information (Add to Cart)               15,000\n",
       "3                      Payment Details                5,000\n",
       "4                   Total transactions                3,000"
      ]
     },
     "execution_count": 161,
     "metadata": {},
     "output_type": "execute_result"
    }
   ],
   "source": [
    "funnel_df.info()\n",
    "funnel_df.head()\n"
   ]
  },
  {
   "cell_type": "code",
   "execution_count": 164,
   "metadata": {},
   "outputs": [
    {
     "name": "stdout",
     "output_type": "stream",
     "text": [
      "<class 'pandas.core.frame.DataFrame'>\n",
      "RangeIndex: 50 entries, 0 to 49\n",
      "Data columns (total 5 columns):\n",
      " #   Column        Non-Null Count  Dtype \n",
      "---  ------        --------------  ----- \n",
      " 0   Country IATA  50 non-null     object\n",
      " 1   Type          50 non-null     object\n",
      " 2   country       50 non-null     object\n",
      " 3   country.1     50 non-null     object\n",
      " 4   ES value      50 non-null     object\n",
      "dtypes: object(5)\n",
      "memory usage: 2.1+ KB\n"
     ]
    }
   ],
   "source": [
    "countries_df.info()\n"
   ]
  },
  {
   "cell_type": "code",
   "execution_count": 165,
   "metadata": {},
   "outputs": [
    {
     "name": "stdout",
     "output_type": "stream",
     "text": [
      "<class 'pandas.core.frame.DataFrame'>\n",
      "RangeIndex: 254 entries, 0 to 253\n",
      "Data columns (total 6 columns):\n",
      " #   Column     Non-Null Count  Dtype \n",
      "---  ------     --------------  ----- \n",
      " 0   id         254 non-null    object\n",
      " 1   tripType   254 non-null    object\n",
      " 2   currency   254 non-null    object\n",
      " 3   price      254 non-null    object\n",
      " 4   currency2  254 non-null    object\n",
      " 5   price2     254 non-null    int64 \n",
      "dtypes: int64(1), object(5)\n",
      "memory usage: 12.0+ KB\n"
     ]
    },
    {
     "data": {
      "text/html": [
       "<div>\n",
       "<style scoped>\n",
       "    .dataframe tbody tr th:only-of-type {\n",
       "        vertical-align: middle;\n",
       "    }\n",
       "\n",
       "    .dataframe tbody tr th {\n",
       "        vertical-align: top;\n",
       "    }\n",
       "\n",
       "    .dataframe thead th {\n",
       "        text-align: right;\n",
       "    }\n",
       "</style>\n",
       "<table border=\"1\" class=\"dataframe\">\n",
       "  <thead>\n",
       "    <tr style=\"text-align: right;\">\n",
       "      <th></th>\n",
       "      <th>id</th>\n",
       "      <th>tripType</th>\n",
       "      <th>currency</th>\n",
       "      <th>price</th>\n",
       "      <th>currency2</th>\n",
       "      <th>price2</th>\n",
       "    </tr>\n",
       "  </thead>\n",
       "  <tbody>\n",
       "    <tr>\n",
       "      <th>0</th>\n",
       "      <td>ANFARI</td>\n",
       "      <td>oneway</td>\n",
       "      <td>CLP</td>\n",
       "      <td>$74,486</td>\n",
       "      <td>USD</td>\n",
       "      <td>78</td>\n",
       "    </tr>\n",
       "    <tr>\n",
       "      <th>1</th>\n",
       "      <td>ANFCCP</td>\n",
       "      <td>oneway</td>\n",
       "      <td>CLP</td>\n",
       "      <td>$31,086</td>\n",
       "      <td>USD</td>\n",
       "      <td>33</td>\n",
       "    </tr>\n",
       "    <tr>\n",
       "      <th>2</th>\n",
       "      <td>ANFIQQ</td>\n",
       "      <td>oneway</td>\n",
       "      <td>CLP</td>\n",
       "      <td>$73,378</td>\n",
       "      <td>USD</td>\n",
       "      <td>77</td>\n",
       "    </tr>\n",
       "    <tr>\n",
       "      <th>3</th>\n",
       "      <td>ANFLSC</td>\n",
       "      <td>oneway</td>\n",
       "      <td>CLP</td>\n",
       "      <td>$21,043</td>\n",
       "      <td>USD</td>\n",
       "      <td>22</td>\n",
       "    </tr>\n",
       "    <tr>\n",
       "      <th>4</th>\n",
       "      <td>ANFPMC</td>\n",
       "      <td>oneway</td>\n",
       "      <td>CLP</td>\n",
       "      <td>$46,654</td>\n",
       "      <td>USD</td>\n",
       "      <td>49</td>\n",
       "    </tr>\n",
       "  </tbody>\n",
       "</table>\n",
       "</div>"
      ],
      "text/plain": [
       "       id tripType currency    price currency2  price2\n",
       "0  ANFARI   oneway      CLP  $74,486       USD      78\n",
       "1  ANFCCP   oneway      CLP  $31,086       USD      33\n",
       "2  ANFIQQ   oneway      CLP  $73,378       USD      77\n",
       "3  ANFLSC   oneway      CLP  $21,043       USD      22\n",
       "4  ANFPMC   oneway      CLP  $46,654       USD      49"
      ]
     },
     "execution_count": 165,
     "metadata": {},
     "output_type": "execute_result"
    }
   ],
   "source": [
    "flights_df.info()\n",
    "flights_df.head()"
   ]
  },
  {
   "cell_type": "markdown",
   "metadata": {},
   "source": [
    "Convertimos los datos mal clasificados como 'object' en 'int', para esto usaremos las expresiones ```.replace()``` y ```.astype()```"
   ]
  },
  {
   "cell_type": "code",
   "execution_count": 160,
   "metadata": {},
   "outputs": [
    {
     "name": "stdout",
     "output_type": "stream",
     "text": [
      "<class 'pandas.core.frame.DataFrame'>\n",
      "RangeIndex: 4836 entries, 0 to 4835\n",
      "Data columns (total 4 columns):\n",
      " #   Column           Non-Null Count  Dtype \n",
      "---  ------           --------------  ----- \n",
      " 0   id               4836 non-null   object\n",
      " 1   Transactions     4836 non-null   int64 \n",
      " 2   PAX: Passengers  4836 non-null   int64 \n",
      " 3   Revenue (USD)    4836 non-null   int64 \n",
      "dtypes: int64(3), object(1)\n",
      "memory usage: 151.2+ KB\n"
     ]
    }
   ],
   "source": [
    "ventas_df['Transactions'] = ventas_df['Transactions'].str.replace(',', '').astype(int)\n",
    "ventas_df['PAX: Passengers'] = ventas_df['PAX: Passengers'].str.replace(',', '').astype(int)\n",
    "ventas_df['Revenue (USD)'] = ventas_df['Revenue (USD)'].str.replace('[$,]', '', regex=True).astype(int)\n",
    "\n",
    "ventas_df.info()"
   ]
  },
  {
   "cell_type": "code",
   "execution_count": 162,
   "metadata": {},
   "outputs": [
    {
     "name": "stdout",
     "output_type": "stream",
     "text": [
      "<class 'pandas.core.frame.DataFrame'>\n",
      "RangeIndex: 5 entries, 0 to 4\n",
      "Data columns (total 2 columns):\n",
      " #   Column                Non-Null Count  Dtype \n",
      "---  ------                --------------  ----- \n",
      " 0   Sales Funnel Step     5 non-null      object\n",
      " 1   Cantidad de usuarios  5 non-null      int64 \n",
      "dtypes: int64(1), object(1)\n",
      "memory usage: 208.0+ bytes\n"
     ]
    }
   ],
   "source": [
    "funnel_df['Cantidad de usuarios'] = funnel_df['Cantidad de usuarios'].str.replace(',', '').astype(int)"
   ]
  },
  {
   "cell_type": "code",
   "execution_count": 166,
   "metadata": {},
   "outputs": [
    {
     "name": "stdout",
     "output_type": "stream",
     "text": [
      "<class 'pandas.core.frame.DataFrame'>\n",
      "RangeIndex: 254 entries, 0 to 253\n",
      "Data columns (total 6 columns):\n",
      " #   Column     Non-Null Count  Dtype \n",
      "---  ------     --------------  ----- \n",
      " 0   id         254 non-null    object\n",
      " 1   tripType   254 non-null    object\n",
      " 2   currency   254 non-null    object\n",
      " 3   price      254 non-null    int64 \n",
      " 4   currency2  254 non-null    object\n",
      " 5   price2     254 non-null    int64 \n",
      "dtypes: int64(2), object(4)\n",
      "memory usage: 12.0+ KB\n"
     ]
    }
   ],
   "source": [
    "flights_df['price'] = flights_df['price'].str.replace('[$,]', '', regex=True).astype(int)"
   ]
  },
  {
   "cell_type": "markdown",
   "metadata": {},
   "source": [
    "## <font color='#0D0259'>Análisis de Funnel</font>\n"
   ]
  },
  {
   "cell_type": "markdown",
   "metadata": {},
   "source": [
    "#### <font color='#0D0259'>1 .- ¿En qué áreas del Funnel te concentrarías y qué haría para cambiar estos resultados?</font>"
   ]
  },
  {
   "cell_type": "markdown",
   "metadata": {},
   "source": [
    "Para responder esta pregunta veremos la cantidad porcentual de usuarios que pasan de un step a otro, para esto utilizaremos la función ```pct_change()``` de la biblioteca pandas."
   ]
  },
  {
   "cell_type": "code",
   "execution_count": 167,
   "metadata": {},
   "outputs": [],
   "source": [
    "funnel_df['Porcentaje Cambio'] = 0.0"
   ]
  },
  {
   "cell_type": "code",
   "execution_count": 168,
   "metadata": {},
   "outputs": [],
   "source": [
    "funnel_df['Porcentaje Cambio'] = funnel_df['Cantidad de usuarios'].pct_change() * 100"
   ]
  },
  {
   "cell_type": "code",
   "execution_count": 169,
   "metadata": {},
   "outputs": [
    {
     "data": {
      "text/html": [
       "<div>\n",
       "<style scoped>\n",
       "    .dataframe tbody tr th:only-of-type {\n",
       "        vertical-align: middle;\n",
       "    }\n",
       "\n",
       "    .dataframe tbody tr th {\n",
       "        vertical-align: top;\n",
       "    }\n",
       "\n",
       "    .dataframe thead th {\n",
       "        text-align: right;\n",
       "    }\n",
       "</style>\n",
       "<table border=\"1\" class=\"dataframe\">\n",
       "  <thead>\n",
       "    <tr style=\"text-align: right;\">\n",
       "      <th></th>\n",
       "      <th>Sales Funnel Step</th>\n",
       "      <th>Cantidad de usuarios</th>\n",
       "      <th>Porcentaje Cambio</th>\n",
       "    </tr>\n",
       "  </thead>\n",
       "  <tbody>\n",
       "    <tr>\n",
       "      <th>0</th>\n",
       "      <td>Homepage Total Users</td>\n",
       "      <td>150000</td>\n",
       "      <td>NaN</td>\n",
       "    </tr>\n",
       "    <tr>\n",
       "      <th>1</th>\n",
       "      <td>Search-Results (Product View)</td>\n",
       "      <td>60000</td>\n",
       "      <td>-60.000000</td>\n",
       "    </tr>\n",
       "    <tr>\n",
       "      <th>2</th>\n",
       "      <td>Passenger Information (Add to Cart)</td>\n",
       "      <td>15000</td>\n",
       "      <td>-75.000000</td>\n",
       "    </tr>\n",
       "    <tr>\n",
       "      <th>3</th>\n",
       "      <td>Payment Details</td>\n",
       "      <td>5000</td>\n",
       "      <td>-66.666667</td>\n",
       "    </tr>\n",
       "    <tr>\n",
       "      <th>4</th>\n",
       "      <td>Total transactions</td>\n",
       "      <td>3000</td>\n",
       "      <td>-40.000000</td>\n",
       "    </tr>\n",
       "  </tbody>\n",
       "</table>\n",
       "</div>"
      ],
      "text/plain": [
       "                     Sales Funnel Step  Cantidad de usuarios  \\\n",
       "0                 Homepage Total Users                150000   \n",
       "1        Search-Results (Product View)                 60000   \n",
       "2  Passenger Information (Add to Cart)                 15000   \n",
       "3                      Payment Details                  5000   \n",
       "4                   Total transactions                  3000   \n",
       "\n",
       "   Porcentaje Cambio  \n",
       "0                NaN  \n",
       "1         -60.000000  \n",
       "2         -75.000000  \n",
       "3         -66.666667  \n",
       "4         -40.000000  "
      ]
     },
     "execution_count": 169,
     "metadata": {},
     "output_type": "execute_result"
    }
   ],
   "source": [
    "funnel_df.head()"
   ]
  },
  {
   "cell_type": "markdown",
   "metadata": {},
   "source": [
    "Análisis de resultados:\n",
    "\n",
    "- Homepage Total Users: La cantidad total de usuarios que visitan la página es de 150.000, este es nuestro dato inicial.\n",
    "\n",
    "\n",
    "- Search-Results (Product View): Los usuarios que avanzan a la etapa de búsqueda de vuelos disminuye en un 60%.\n",
    "\n",
    "- Passenger Information (Add to Cart): Los usuarios que agregan los vuelos al carrito disminuye en un 75%.\n",
    "\n",
    "- Payment Details: Quienes avanzan al pago disminuyen en un 66,6%, para esto deben ingresar su información personal.\n",
    "\n",
    "- Total transactions: La cantidad de usuarios que completan su venta disminuye en un 40% desde el paso anterior.\n",
    "\n",
    "La tasa de conversión total es de un 2%, entre los usuarios que entran a la página y compran sus pasajes.\n",
    "\n",
    "Si tomamos un valor referencial del 65% como tasa de abandono alta, podemos decir que existen problemas en 2 steps de la página web, **Add to Cart y Payment Details**.\n",
    "\n",
    "\n",
    "\n",
    "\n",
    "\n"
   ]
  },
  {
   "cell_type": "markdown",
   "metadata": {},
   "source": [
    "### <font color='#F21667'>Respuesta 1.1</font>\n"
   ]
  },
  {
   "cell_type": "markdown",
   "metadata": {},
   "source": [
    "Según el análisis realizado, las etapas del embudo de ventas con mayores tasas de abandono son Passenger Information (Add to Cart) y Payment Details, con una disminución de usuarios del 75% y 66,67%, respectivamente.\n",
    "\n",
    "**Add to Cart**\n",
    "En esta fase, los usuarios pueden enfrentar diversas dificultades, como problemas al agregar boletos al carrito, precios que superan sus expectativas o falta de confianza en el sitio. Además, es importante considerar que muchos visitantes llegan al sitio con la intención de \"cotizar\" en lugar de comprar, y esta etapa puede ser la última para esos casos.\n",
    "\n",
    "Para mejorar la retención de usuarios en esta etapa, se sugiere implementar estrategias que les recuerden los vuelos agregados a su carrito. Por ejemplo, si un usuario busca viajes a Cancún en una fecha específica y no completa la compra, se pueden enviar correos electrónicos recordatorios invitándolo a adquirir ese destino o alternativas similares en las fechas seleccionadas.\n",
    "\n",
    "Es crucial desarrollar estrategias que fomenten el interés de los usuarios que solo buscan cotizar, con el objetivo de convertirlos en compradores. Esto puede incluir promociones y ofertas, así como recursos educativos, como un comparador de precios que permita visualizar los costos adicionales por servicios opcionales (equipaje, selección de asientos, prioridad, etc.). También se debe facilitar la conversión para usuarios con cuentas mediante el uso de millas acumuladas.\n",
    "\n",
    "Además, se recomienda optimizar la experiencia del usuario (UX) en esta etapa, simplificando el proceso, lo que incluye la incorporación de extras y la venta de seguros.\n",
    "\n",
    "**Payment Details**\n",
    "En esta etapa, los usuarios pueden abandonar el proceso de pago por varios motivos, como un procedimiento complicado o tedioso, tarifas inesperadas que se añaden en esta fase, como tasas de embarque, o inseguridad respecto al método de pago.\n",
    "\n",
    "Para mitigar estos problemas, se pueden introducir métodos de pago más confiables y rápidos para el usuario. Por ejemplo, permitir el almacenamiento de datos de pago en la cuenta del usuario para facilitar la __\"compra con un clic\"__. También se pueden habilitar opciones de pago de terceros, como Mercado Pago, Khipu y bancos en línea, que son familiares y confiables para muchos usuarios, ofreciendo opciones de transferencia, débito y crédito.\n",
    "\n",
    "Respecto a las tarifas que pueden aumentar durante el proceso, algunas aerolíneas presentan el costo de las tasas de embarque u otros cargos opcionales al final del proceso, creando expectativas erróneas que pueden llevar al usuario a desistir de la compra. Para abordar esta situación, es fundamental proporcionar desde el primer paso un desglose claro del costo total, evitando sorpresas en las etapas posteriores.\n",
    "\n"
   ]
  },
  {
   "cell_type": "markdown",
   "metadata": {},
   "source": [
    "## <font color='#0D0259'>Análisis de Ventas</font>"
   ]
  },
  {
   "cell_type": "markdown",
   "metadata": {},
   "source": [
    "#### <font color='#0D0259'>1.- ¿A cuántas ciudades de Chile ofrece LATAM servicios de vuelos nacionales?</font>"
   ]
  },
  {
   "cell_type": "markdown",
   "metadata": {},
   "source": [
    "Para realizar este análisis tomamos las bases de datos de ventas, ciudades y paises.\n",
    "\n",
    "Creamos una nueva tabla donde almacenaremos solo los vuelos nacionales, lo que significa que en la columna 'id' de la base de datos, las siglas de aeropuerto de origen y destinos deben pertenecer a ciudades chilenas.\n",
    "\n",
    "A partir de la nueva tabla con vuelos nacionales, tomamos los valores únicos de ciudades, para saber a cuántas ciudades de chile LATA ofrece servicios."
   ]
  },
  {
   "cell_type": "markdown",
   "metadata": {},
   "source": [
    "Dividimos la columna id como origen y destino, para una mayor comprensión y manipulación de los datos"
   ]
  },
  {
   "cell_type": "code",
   "execution_count": 170,
   "metadata": {},
   "outputs": [],
   "source": [
    "ventas_df['origen'] = ventas_df['id'].str[:3]\n",
    "ventas_df['destino'] = ventas_df['id'].str[-3:]"
   ]
  },
  {
   "cell_type": "markdown",
   "metadata": {},
   "source": [
    "Creamos una nueva columna para poder filtrar datos que tengan tanto origen o destino en ciudades dentro del país chile, para esto debemos verificar si en cada fila, 'origen' y 'destino' están dentro del valor de país 'CL' Chile.\n",
    "\n",
    "Luego creamos un dataframe con los vuelos que sean solo nacionales.\n",
    "\n",
    "Para poder responder la pregunta, utilizamos la función ```.nunique()``` sobre destino para conocer la cantidad de valores únicos.\n"
   ]
  },
  {
   "cell_type": "code",
   "execution_count": 171,
   "metadata": {},
   "outputs": [],
   "source": [
    "def verificar_vuelo_chile(row):\n",
    "    if row['origen'] in cities_df['City IATA'].values:\n",
    "        if cities_df[cities_df['City IATA'] == row['origen']]['country'].values[0] == 'CL':\n",
    "            if cities_df[cities_df['City IATA'] == row['destino']]['country'].values[0] == 'CL':\n",
    "                return 'si'\n",
    "        return 'no'\n",
    "    return 'no'\n",
    "\n",
    "#aplicamos el método apply, para que la función corra en cada fila (axis=1) de nuestro dataframe.\n",
    "ventas_df['chile'] = ventas_df.apply(verificar_vuelo_chile, axis=1)\n",
    "#creamos el dataframe nacionalchile_df para filtrar solo los vuelos nacionales\n",
    "chile_df = ventas_df[ventas_df['chile'] == 'si']\n"
   ]
  },
  {
   "cell_type": "markdown",
   "metadata": {},
   "source": [
    "### <font color='#F21667'>Respuesta 2.1</font>\n"
   ]
  },
  {
   "cell_type": "code",
   "execution_count": 172,
   "metadata": {},
   "outputs": [
    {
     "name": "stdout",
     "output_type": "stream",
     "text": [
      "Latam ofrece servicios a 17 ciudades de Chile\n"
     ]
    }
   ],
   "source": [
    "ciudades_chile = chile_df['destino'].nunique()\n",
    "\n",
    "print(f\"Latam ofrece servicios a {ciudades_chile} ciudades de Chile\")"
   ]
  },
  {
   "cell_type": "markdown",
   "metadata": {},
   "source": [
    "#### <font color='#0D0259'>2.- ¿Cuáles son los 3 mayores destinos domésticos vendidos en Colombia?</font>\n"
   ]
  },
  {
   "cell_type": "markdown",
   "metadata": {},
   "source": [
    "Para responder esta pregunta, realizamos los pasos anteriores, pero agrupamos en vuelos que tengan tanto 'origen' como 'destino' en Colombia 'CO'."
   ]
  },
  {
   "cell_type": "code",
   "execution_count": 173,
   "metadata": {},
   "outputs": [],
   "source": [
    "def verificar_vuelo_colombia(row):\n",
    "    if row['origen'] in cities_df['City IATA'].values:\n",
    "        if cities_df[cities_df['City IATA'] == row['origen']]['country'].values[0] == 'CO':\n",
    "            if cities_df[cities_df['City IATA'] == row['destino']]['country'].values[0] == 'CO':\n",
    "                return 'si'\n",
    "        return 'no'\n",
    "    return 'no'\n",
    "\n",
    "ventas_df['colombia'] = ventas_df.apply(verificar_vuelo_colombia, axis=1)\n",
    "#creamos el dataframe nacionalchile_df para filtrar solo los vuelos nacionales\n",
    "colombia_df = ventas_df[ventas_df['colombia'] == 'si']"
   ]
  },
  {
   "cell_type": "markdown",
   "metadata": {},
   "source": [
    "Agrupamos en un nuevo DF, llamado transacciones_por_destino, la suma de las transacciones con destino común, para esto ocupamos la función ```.groupby()``` que cumple una función similar al popular group by de SQL. \n",
    "\n",
    "Luego ordenamos el DF resultante en orden descendiente de transacciones, para conocer los destinos con mayor número de ventas."
   ]
  },
  {
   "cell_type": "code",
   "execution_count": 174,
   "metadata": {},
   "outputs": [
    {
     "data": {
      "text/html": [
       "<div>\n",
       "<style scoped>\n",
       "    .dataframe tbody tr th:only-of-type {\n",
       "        vertical-align: middle;\n",
       "    }\n",
       "\n",
       "    .dataframe tbody tr th {\n",
       "        vertical-align: top;\n",
       "    }\n",
       "\n",
       "    .dataframe thead th {\n",
       "        text-align: right;\n",
       "    }\n",
       "</style>\n",
       "<table border=\"1\" class=\"dataframe\">\n",
       "  <thead>\n",
       "    <tr style=\"text-align: right;\">\n",
       "      <th></th>\n",
       "      <th>destino</th>\n",
       "      <th>Transactions</th>\n",
       "    </tr>\n",
       "  </thead>\n",
       "  <tbody>\n",
       "    <tr>\n",
       "      <th>4</th>\n",
       "      <td>BOG</td>\n",
       "      <td>27191</td>\n",
       "    </tr>\n",
       "    <tr>\n",
       "      <th>10</th>\n",
       "      <td>MDE</td>\n",
       "      <td>23678</td>\n",
       "    </tr>\n",
       "    <tr>\n",
       "      <th>5</th>\n",
       "      <td>CLO</td>\n",
       "      <td>12297</td>\n",
       "    </tr>\n",
       "    <tr>\n",
       "      <th>6</th>\n",
       "      <td>CTG</td>\n",
       "      <td>8446</td>\n",
       "    </tr>\n",
       "    <tr>\n",
       "      <th>2</th>\n",
       "      <td>BAQ</td>\n",
       "      <td>7786</td>\n",
       "    </tr>\n",
       "    <tr>\n",
       "      <th>0</th>\n",
       "      <td>ADZ</td>\n",
       "      <td>5016</td>\n",
       "    </tr>\n",
       "    <tr>\n",
       "      <th>11</th>\n",
       "      <td>MTR</td>\n",
       "      <td>4863</td>\n",
       "    </tr>\n",
       "    <tr>\n",
       "      <th>15</th>\n",
       "      <td>SMR</td>\n",
       "      <td>3950</td>\n",
       "    </tr>\n",
       "    <tr>\n",
       "      <th>3</th>\n",
       "      <td>BGA</td>\n",
       "      <td>3897</td>\n",
       "    </tr>\n",
       "    <tr>\n",
       "      <th>13</th>\n",
       "      <td>PEI</td>\n",
       "      <td>3482</td>\n",
       "    </tr>\n",
       "    <tr>\n",
       "      <th>7</th>\n",
       "      <td>CUC</td>\n",
       "      <td>3184</td>\n",
       "    </tr>\n",
       "    <tr>\n",
       "      <th>14</th>\n",
       "      <td>PSO</td>\n",
       "      <td>1257</td>\n",
       "    </tr>\n",
       "    <tr>\n",
       "      <th>16</th>\n",
       "      <td>VUP</td>\n",
       "      <td>1104</td>\n",
       "    </tr>\n",
       "    <tr>\n",
       "      <th>12</th>\n",
       "      <td>NVA</td>\n",
       "      <td>945</td>\n",
       "    </tr>\n",
       "    <tr>\n",
       "      <th>9</th>\n",
       "      <td>LET</td>\n",
       "      <td>739</td>\n",
       "    </tr>\n",
       "    <tr>\n",
       "      <th>1</th>\n",
       "      <td>AXM</td>\n",
       "      <td>592</td>\n",
       "    </tr>\n",
       "    <tr>\n",
       "      <th>8</th>\n",
       "      <td>EYP</td>\n",
       "      <td>564</td>\n",
       "    </tr>\n",
       "  </tbody>\n",
       "</table>\n",
       "</div>"
      ],
      "text/plain": [
       "   destino  Transactions\n",
       "4      BOG         27191\n",
       "10     MDE         23678\n",
       "5      CLO         12297\n",
       "6      CTG          8446\n",
       "2      BAQ          7786\n",
       "0      ADZ          5016\n",
       "11     MTR          4863\n",
       "15     SMR          3950\n",
       "3      BGA          3897\n",
       "13     PEI          3482\n",
       "7      CUC          3184\n",
       "14     PSO          1257\n",
       "16     VUP          1104\n",
       "12     NVA           945\n",
       "9      LET           739\n",
       "1      AXM           592\n",
       "8      EYP           564"
      ]
     },
     "execution_count": 174,
     "metadata": {},
     "output_type": "execute_result"
    }
   ],
   "source": [
    "transacciones_por_destino = colombia_df.groupby('destino')['Transactions'].sum().reset_index()\n",
    "transacciones_por_destino.sort_values(by='Transactions', ascending=False)"
   ]
  },
  {
   "cell_type": "markdown",
   "metadata": {},
   "source": [
    "### <font color='#F21667'>Respuesta 2.2</font>\n",
    "Los 3 mayores destinos en vuelos domésticos de Colombia son Bogotá, Medellín y Cali. Con transacciones totales de 27.191, 23.678 y 12.297 respectivamente.\n"
   ]
  },
  {
   "cell_type": "markdown",
   "metadata": {},
   "source": [
    "#### <font color='#0D0259'>3.- Cuál es la tarifa media por pasajero (Revenue/Pax) en vuelos internacionales con origen en Brasil</font>"
   ]
  },
  {
   "cell_type": "markdown",
   "metadata": {},
   "source": [
    "Tomamos la función empleada para la respuesta anterior, pero la modificamos para que nos entregue los valores que coincidan en el origen con 'BR' Brasil y que al mismo tiempo, sean distintos a 'BR' Brasil en destino.\n",
    "Luego creamos un data frame más acotado, con los valores filtrados, que cumplan con ambas condiciones."
   ]
  },
  {
   "cell_type": "code",
   "execution_count": 175,
   "metadata": {},
   "outputs": [],
   "source": [
    "def verificar_vuelo_interbrasil(row):\n",
    "    if row['origen'] in cities_df['City IATA'].values:\n",
    "        #Elegimos los origenes en Brasil\n",
    "        if cities_df[cities_df['City IATA'] == row['origen']]['country'].values[0] == 'BR':\n",
    "            #Elegimos los destinos distintos a Brasil\n",
    "            if cities_df[cities_df['City IATA'] == row['destino']]['country'].values[0] != 'BR':\n",
    "                return 'si'\n",
    "        return 'no'\n",
    "    return 'no'\n",
    "\n",
    "ventas_df['interbrasil'] = ventas_df.apply(verificar_vuelo_interbrasil, axis=1)\n",
    "\n",
    "interbrasil_df = ventas_df[ventas_df['interbrasil'] == 'si']"
   ]
  },
  {
   "cell_type": "markdown",
   "metadata": {},
   "source": [
    "Finalmente la Tarifa media por pasajero se calcula dividiendo Revenue/Pax, del total del DF creado."
   ]
  },
  {
   "cell_type": "code",
   "execution_count": 176,
   "metadata": {},
   "outputs": [],
   "source": [
    "tarifa_media_por_pax = (sum(interbrasil_df['Revenue (USD)'])/sum(interbrasil_df['PAX: Passengers']))"
   ]
  },
  {
   "cell_type": "markdown",
   "metadata": {},
   "source": [
    "### <font color='#F21667'>Respuesta 2.3</font>\n"
   ]
  },
  {
   "cell_type": "code",
   "execution_count": 196,
   "metadata": {},
   "outputs": [
    {
     "name": "stdout",
     "output_type": "stream",
     "text": [
      "La tarifa media por pasajeros en vuelos internacionales con origen en Brasil es de USD 81.35\n"
     ]
    }
   ],
   "source": [
    "print(f'La tarifa media por pasajeros en vuelos internacionales con origen en Brasil es de USD {tarifa_media_por_pax:.2f}')"
   ]
  },
  {
   "cell_type": "markdown",
   "metadata": {},
   "source": [
    "#### <font color='#0D0259'>4.- Cuál es el top 10 de ciudades de origen más frecuentes</font>"
   ]
  },
  {
   "cell_type": "markdown",
   "metadata": {},
   "source": [
    "Agrupamos la cantidad de transacciones de acuerdo a las ciudades de origen, ocupamos la función .groupby() y .sum() para definir el total de transacciones.\n",
    "Ordenamos los valores en forma descendente y tomamos los 10 primeros valores de la tabla."
   ]
  },
  {
   "cell_type": "code",
   "execution_count": 178,
   "metadata": {},
   "outputs": [
    {
     "data": {
      "text/plain": [
       "['SCL', 'LIM', 'GRU', 'CGH', 'BOG', 'BSB', 'MDE', 'SDU', 'ANF', 'FOR']"
      ]
     },
     "execution_count": 178,
     "metadata": {},
     "output_type": "execute_result"
    }
   ],
   "source": [
    "origen_frecuencia = ventas_df.groupby('origen')['Transactions'].sum().reset_index()\n",
    "origen_frecuencia = origen_frecuencia.sort_values(by='Transactions', ascending=False)\n",
    "topten = origen_frecuencia['origen'].head(10).tolist()\n",
    "topten"
   ]
  },
  {
   "cell_type": "markdown",
   "metadata": {},
   "source": [
    "Como nos retorna una lista con los códigos de aeropuerto, definimos cuáles son las ciudades con un ciclo for, buscando cada item en la base de datos de 'Cities'."
   ]
  },
  {
   "cell_type": "code",
   "execution_count": 179,
   "metadata": {},
   "outputs": [
    {
     "name": "stdout",
     "output_type": "stream",
     "text": [
      "Santiago\n",
      "Lima\n",
      "Sao Paulo\n",
      "Sao Paulo\n",
      "Bogota\n",
      "Brasilia\n",
      "Medellin\n",
      "Rio De Janeiro\n",
      "Antofagasta\n",
      "Fortaleza\n"
     ]
    }
   ],
   "source": [
    "for item in topten:\n",
    "    matched_row = cities_df[cities_df['City IATA'] == item]\n",
    "    if not matched_row.empty:\n",
    "        print(matched_row['city'].values[0])"
   ]
  },
  {
   "cell_type": "markdown",
   "metadata": {},
   "source": [
    "Como vemos que Sao Paulo se repite, al tener dos de sus aeropuertos GRU y CGH en el top ten, agregaremos una ciudad más,"
   ]
  },
  {
   "cell_type": "code",
   "execution_count": 195,
   "metadata": {},
   "outputs": [
    {
     "data": {
      "text/plain": [
       "['Santiago',\n",
       " 'Lima',\n",
       " 'Sao Paulo',\n",
       " 'Sao Paulo',\n",
       " 'Bogota',\n",
       " 'Brasilia',\n",
       " 'Medellin',\n",
       " 'Rio De Janeiro',\n",
       " 'Antofagasta',\n",
       " 'Fortaleza',\n",
       " 'Belo Horizonte']"
      ]
     },
     "execution_count": 195,
     "metadata": {},
     "output_type": "execute_result"
    }
   ],
   "source": [
    "topten = origen_frecuencia['origen'].head(11).tolist()\n",
    "top_city= []\n",
    "for item in topten:\n",
    "    matched_row = cities_df[cities_df['City IATA'] == item]\n",
    "    if not matched_row.empty:\n",
    "        top_city.append(matched_row['city'].values[0])"
   ]
  },
  {
   "cell_type": "markdown",
   "metadata": {},
   "source": [
    "### <font color='#F21667'>Respuesta 2.4</font>"
   ]
  },
  {
   "cell_type": "markdown",
   "metadata": {},
   "source": [
    "El top ten de ciudades con origen más frecuente son\n",
    "1. Santiago\n",
    "2. Lima\n",
    "3. Sao Paulo\n",
    "4. Bogota\n",
    "5. Brasilia\n",
    "6. Medellin\n",
    "7. Rio De Janeiro\n",
    "8. Antofagasta\n",
    "9. Fortaleza\n",
    "10. Belo Horizonte"
   ]
  },
  {
   "cell_type": "markdown",
   "metadata": {},
   "source": [
    "#### <font color='#0D0259'>5.- Cuál es el top 10 de países más vendidos</font>"
   ]
  },
  {
   "cell_type": "markdown",
   "metadata": {},
   "source": [
    "Para responder esta pregunta, utilizamos la función ```.merge()``` similar a un JOIN de SQL, utilizamos los datos de ventas y countries y la columna en común 'destino' y 'City IATA'."
   ]
  },
  {
   "cell_type": "code",
   "execution_count": 185,
   "metadata": {},
   "outputs": [],
   "source": [
    "ventas_df2 = pd.merge(ventas_df, cities_df, left_on='destino', right_on='City IATA', how='left')\n",
    "ventas_df2 = ventas_df2.drop(['chile','colombia','interbrasil'],axis=1)"
   ]
  },
  {
   "cell_type": "markdown",
   "metadata": {},
   "source": [
    "A partir de esta tabla, agruparemos el valor total de transacciones hechas por país."
   ]
  },
  {
   "cell_type": "code",
   "execution_count": 186,
   "metadata": {},
   "outputs": [],
   "source": [
    "country_frecuencia = ventas_df2.groupby('country')['Transactions'].sum().reset_index()\n",
    "country_frecuencia = country_frecuencia.sort_values(by='Transactions', ascending=False)\n",
    "toptencountry = country_frecuencia['country'].head(10).tolist()"
   ]
  },
  {
   "cell_type": "code",
   "execution_count": 187,
   "metadata": {},
   "outputs": [
    {
     "name": "stdout",
     "output_type": "stream",
     "text": [
      "Brasil\n",
      "Chile\n",
      "Perú\n",
      "Colombia\n",
      "Ecuador\n",
      "Estados Unidos\n",
      "España\n",
      "Argentina\n",
      "México\n",
      "Italia\n"
     ]
    }
   ],
   "source": [
    "for item in toptencountry:\n",
    "    matched_row = countries_df[countries_df['country'] == item]\n",
    "    if not matched_row.empty:\n",
    "        print(matched_row['ES value'].values[0])"
   ]
  },
  {
   "cell_type": "markdown",
   "metadata": {},
   "source": [
    "### <font color='#F21667'>Respuesta 2.5</font>"
   ]
  },
  {
   "cell_type": "markdown",
   "metadata": {},
   "source": [
    "El top ten de países más vendidos son:\n",
    "1. Brasil\n",
    "2. Chile\n",
    "3. Perú\n",
    "4. Colombia\n",
    "5. Ecuador\n",
    "6. Estados Unidos\n",
    "7. España\n",
    "8. Argentina\n",
    "9. México\n",
    "10. Italia"
   ]
  }
 ],
 "metadata": {
  "kernelspec": {
   "display_name": "Python 3",
   "language": "python",
   "name": "python3"
  },
  "language_info": {
   "codemirror_mode": {
    "name": "ipython",
    "version": 3
   },
   "file_extension": ".py",
   "mimetype": "text/x-python",
   "name": "python",
   "nbconvert_exporter": "python",
   "pygments_lexer": "ipython3",
   "version": "3.9.6"
  }
 },
 "nbformat": 4,
 "nbformat_minor": 2
}
